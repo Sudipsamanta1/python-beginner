{
  "nbformat": 4,
  "nbformat_minor": 0,
  "metadata": {
    "colab": {
      "name": "case_and_list.ipynb",
      "provenance": [],
      "collapsed_sections": [],
      "authorship_tag": "ABX9TyP3k0VfqTbUQxXJ7PGeylZZ",
      "include_colab_link": true
    },
    "kernelspec": {
      "name": "python3",
      "display_name": "Python 3"
    }
  },
  "cells": [
    {
      "cell_type": "markdown",
      "metadata": {
        "id": "view-in-github",
        "colab_type": "text"
      },
      "source": [
        "<a href=\"https://colab.research.google.com/github/Sudipsamanta1/python-beginner/blob/master/case_and_list.ipynb\" target=\"_parent\"><img src=\"https://colab.research.google.com/assets/colab-badge.svg\" alt=\"Open In Colab\"/></a>"
      ]
    },
    {
      "cell_type": "markdown",
      "metadata": {
        "id": "BsjFYmAsaP96",
        "colab_type": "text"
      },
      "source": [
        "#Assignment-case\n"
      ]
    },
    {
      "cell_type": "code",
      "metadata": {
        "id": "HGqySe32abOC",
        "colab_type": "code",
        "colab": {
          "base_uri": "https://localhost:8080/",
          "height": 243
        },
        "outputId": "63aadfa2-fbcc-4def-8482-c05ffdd1a205"
      },
      "source": [
        "word=input()\n",
        "def lowercase(word):\n",
        "  return word.lower()\n",
        "\n",
        "def uppercase(word):\n",
        "  return word.upper()\n",
        "\n",
        "def swapcase(word):\n",
        "  return word.swapcase()\n",
        "\n",
        "def firstcap(word):\n",
        "  return word.capitalize()\n",
        "\n",
        "x=lowercase(word)\n",
        "y=uppercase(word)\n",
        "z=swapcase(word)\n",
        "c=firstcap(word)\n",
        "\n",
        "print('\\n\\n',x,'\\n\\n\\n',y,'\\n\\n\\n',z,'\\n\\n\\n',c)\n"
      ],
      "execution_count": 8,
      "outputs": [
        {
          "output_type": "stream",
          "text": [
            "THIS is sEnTeNce onE. this IS SENTENCE twO.THIS is sentENCe thRee.thiS IS SENTEnce fOur\n",
            "\n",
            "\n",
            " this is sentence one. this is sentence two.this is sentence three.this is sentence four \n",
            "\n",
            "\n",
            " THIS IS SENTENCE ONE. THIS IS SENTENCE TWO.THIS IS SENTENCE THREE.THIS IS SENTENCE FOUR \n",
            "\n",
            "\n",
            " this IS SeNtEnCE ONe. THIS is sentence TWo.this IS SENTencE THrEE.THIs is senteNCE FoUR \n",
            "\n",
            "\n",
            " This is sentence one. this is sentence two.this is sentence three.this is sentence four\n"
          ],
          "name": "stdout"
        }
      ]
    },
    {
      "cell_type": "markdown",
      "metadata": {
        "id": "0wvVGJYwg0Jp",
        "colab_type": "text"
      },
      "source": [
        "###   List"
      ]
    },
    {
      "cell_type": "code",
      "metadata": {
        "id": "3Hq8N8QphMeZ",
        "colab_type": "code",
        "colab": {
          "base_uri": "https://localhost:8080/",
          "height": 208
        },
        "outputId": "bdef5f7e-173d-49fb-d961-3ba9d88dcea7"
      },
      "source": [
        "#input a list\n",
        "\n",
        "My_list=[]\n",
        "\n",
        "print(\"enter the list size ::\\n\")\n",
        "\n",
        "n=int(input())\n",
        "\n",
        "for num in range(n):\n",
        "  My_list.append(int(input()))\n",
        "# list Addition element ::\n",
        "sum=0\n",
        "print(My_list)\n",
        "for num in My_list:\n",
        "    sum += int(num)\n",
        "print(\"Sum of all entered numbers = \", sum)\n",
        "# list Average element ::\n",
        "avg = sum/len(My_list)\n",
        "print(\"Average of all entered numbers = \", avg)"
      ],
      "execution_count": 31,
      "outputs": [
        {
          "output_type": "stream",
          "text": [
            "enter the list size ::\n",
            "\n",
            "5\n",
            "464\n",
            "875\n",
            "869\n",
            "586\n",
            "58\n",
            "[464, 875, 869, 586, 58]\n",
            "Sum of all entered numbers =  2852\n",
            "Average of all entered numbers =  570.4\n"
          ],
          "name": "stdout"
        }
      ]
    },
    {
      "cell_type": "markdown",
      "metadata": {
        "id": "91Co52qdxwsf",
        "colab_type": "text"
      },
      "source": [
        "#Matrix in Python\n"
      ]
    },
    {
      "cell_type": "code",
      "metadata": {
        "id": "zh2T2d-_x_Nt",
        "colab_type": "code",
        "colab": {
          "base_uri": "https://localhost:8080/",
          "height": 191
        },
        "outputId": "269fef34-b8f9-4d1c-db59-cb07fe0d3a76"
      },
      "source": [
        "#   n x n matrix::\n",
        "mat=[]\n",
        "\n",
        "n=int(input(\"Enter the no of n ::  \"))\n",
        "\n",
        "for i in range(0,n):\n",
        "  mat.append([])\n",
        "\n",
        "for i in range(0,n):\n",
        "  for j in range(0,n):\n",
        "    mat[i].append(j)\n",
        "    mat[i][j]=0\n",
        "for i in range(0,n):\n",
        "  for j in range(0,n):\n",
        "    print('row',i,'coloumn',j)\n",
        "    mat[i][j]=int(input())\n",
        "print(mat)\n"
      ],
      "execution_count": 33,
      "outputs": [
        {
          "output_type": "stream",
          "text": [
            "Enter the no of n ::  2\n",
            "row 1 coloumn 0\n",
            "342\n",
            "row 1 coloumn 1\n",
            "64\n",
            "row 2 coloumn 0\n",
            "636\n",
            "row 2 coloumn 1\n",
            "8\n",
            "[[342, 64], [636, 8]]\n"
          ],
          "name": "stdout"
        }
      ]
    },
    {
      "cell_type": "markdown",
      "metadata": {
        "id": "wvz0YH17Egr0",
        "colab_type": "text"
      },
      "source": [
        "#cheak a list is palindrome or not\n"
      ]
    },
    {
      "cell_type": "code",
      "metadata": {
        "id": "gXJkSXYqEtgp",
        "colab_type": "code",
        "colab": {
          "base_uri": "https://localhost:8080/",
          "height": 173
        },
        "outputId": "9e790a45-1419-4a26-aa1e-e7e9ee24faf9"
      },
      "source": [
        "\n",
        "My_lst=[]\n",
        "\n",
        "print(\"enter the list size ::\\n\")\n",
        "\n",
        "n=int(input())\n",
        "\n",
        "for num in range(n):\n",
        "  My_lst.append(int(input()))\n",
        "\n",
        "print(My_lst)\n",
        " \n",
        "rev=My_lst[::-1]\n",
        "print(rev)\n",
        "\n",
        "\n",
        "if (My_lst==rev ):\n",
        "  print(\"palindrome\")\n",
        "\n",
        "else:\n",
        "  print(\"not palindrome\")\n"
      ],
      "execution_count": 58,
      "outputs": [
        {
          "output_type": "stream",
          "text": [
            "enter the list size ::\n",
            "\n",
            "3\n",
            "22\n",
            "43\n",
            "21\n",
            "[22, 43, 21]\n",
            "[21, 43, 22]\n",
            "not palindrome\n"
          ],
          "name": "stdout"
        }
      ]
    },
    {
      "cell_type": "code",
      "metadata": {
        "id": "vDF_bSbCKECq",
        "colab_type": "code",
        "colab": {}
      },
      "source": [
        ""
      ],
      "execution_count": 0,
      "outputs": []
    },
    {
      "cell_type": "markdown",
      "metadata": {
        "id": "aa9HoBszKGK5",
        "colab_type": "text"
      },
      "source": [
        "# n x m matrix"
      ]
    },
    {
      "cell_type": "code",
      "metadata": {
        "id": "L0mpoytsKmoH",
        "colab_type": "code",
        "colab": {
          "base_uri": "https://localhost:8080/",
          "height": 955
        },
        "outputId": "143439b6-0665-47f0-936b-517c6b4b62cc"
      },
      "source": [
        "mat=[]\n",
        "\n",
        "n=int(input(\"Enter the no of n ::  \"))\n",
        "m=int((n * 2) / 0.3)\n",
        "for i in range(0,n):\n",
        "  mat.append([])\n",
        "\n",
        "for i in range(0,n):\n",
        "  for j in range(0,m):\n",
        "    mat[i].append(j)\n",
        "    mat[i][j]=0\n",
        "for i in range(0,n):\n",
        "  for j in range(0,m):\n",
        "    print('row',i,'coloumn',j)\n",
        "    mat[i][j]=int(input())\n",
        "print(mat)"
      ],
      "execution_count": 50,
      "outputs": [
        {
          "output_type": "stream",
          "text": [
            "Enter the no of n ::  2\n",
            "row 0 coloumn 0\n",
            "35\n",
            "row 0 coloumn 1\n",
            "22\n",
            "row 0 coloumn 2\n",
            "44\n",
            "row 0 coloumn 3\n",
            "34\n",
            "row 0 coloumn 4\n",
            "34\n",
            "row 0 coloumn 5\n",
            "244\n",
            "row 0 coloumn 6\n",
            "4\n",
            "row 0 coloumn 7\n",
            "353\n",
            "row 0 coloumn 8\n",
            "24\n",
            "row 0 coloumn 9\n",
            "25\n",
            "row 0 coloumn 10\n",
            "333333\n",
            "row 0 coloumn 11\n",
            "355\n",
            "row 0 coloumn 12\n",
            "44\n",
            "row 1 coloumn 0\n",
            "58\n",
            "row 1 coloumn 1\n",
            "770\n",
            "row 1 coloumn 2\n",
            "70\n",
            "row 1 coloumn 3\n",
            "8\n",
            "row 1 coloumn 4\n",
            "8080\n",
            "row 1 coloumn 5\n",
            "8\n",
            "row 1 coloumn 6\n",
            "787\n",
            "row 1 coloumn 7\n",
            "997\n",
            "row 1 coloumn 8\n",
            "9\n",
            "row 1 coloumn 9\n",
            "79\n",
            "row 1 coloumn 10\n",
            "6\n",
            "row 1 coloumn 11\n",
            "8\n",
            "row 1 coloumn 12\n",
            "86\n",
            "[[35, 22, 44, 34, 34, 244, 4, 353, 24, 25, 333333, 355, 44], [58, 770, 70, 8, 8080, 8, 787, 997, 9, 79, 6, 8, 86]]\n"
          ],
          "name": "stdout"
        }
      ]
    }
  ]
}