{
  "nbformat": 4,
  "nbformat_minor": 0,
  "metadata": {
    "colab": {
      "name": "Untitled0.ipynb",
      "provenance": [],
      "collapsed_sections": [],
      "authorship_tag": "ABX9TyNMpuQwNYh+GHJEcMPsDXCd",
      "include_colab_link": true
    },
    "kernelspec": {
      "name": "python3",
      "display_name": "Python 3"
    }
  },
  "cells": [
    {
      "cell_type": "markdown",
      "metadata": {
        "id": "view-in-github",
        "colab_type": "text"
      },
      "source": [
        "<a href=\"https://colab.research.google.com/github/Sudipsamanta1/python-beginner/blob/master/sqrtroot.ipynb\" target=\"_parent\"><img src=\"https://colab.research.google.com/assets/colab-badge.svg\" alt=\"Open In Colab\"/></a>"
      ]
    },
    {
      "cell_type": "code",
      "metadata": {
        "id": "p-oziOD3fMi6",
        "colab_type": "code",
        "colab": {
          "base_uri": "https://localhost:8080/",
          "height": 52
        },
        "outputId": "c9655f27-ce16-4cc9-99a2-59e68545dfb3"
      },
      "source": [
        "\n"
      ],
      "execution_count": 2,
      "outputs": [
        {
          "output_type": "stream",
          "text": [
            "Enter your number ??? 525\n",
            "your no is :: 525\n"
          ],
          "name": "stdout"
        }
      ]
    },
    {
      "cell_type": "code",
      "metadata": {
        "id": "Oc005rWXh2K7",
        "colab_type": "code",
        "colab": {
          "base_uri": "https://localhost:8080/",
          "height": 69
        },
        "outputId": "0ab6a04b-8eee-4054-aa7a-fadd9ccac1fc"
      },
      "source": [
        "n=int(input('Enter your number ??? '))\n",
        "print('your no is ::',n)\n",
        "m=10\n",
        "h=0.0\n",
        "g=0.0\n",
        "while(n >=100):\n",
        "  h=h+1\n",
        "  n=n/100.0\n",
        "s=0.0\n",
        "for k in range(1,m+1):\n",
        "  i=-1\n",
        "  while(g*g<n):\n",
        "    i=i+1.0\n",
        "    g=s+i*10.0**(1-k)\n",
        "  if(g*g==n):\n",
        "    break;\n",
        "  s=s+(i-1.0)*10.0**(1-k)\n",
        "  g=s+i*10.0**(2-k)\n",
        "s=g\n",
        "print(s*10.0**h)"
      ],
      "execution_count": 10,
      "outputs": [
        {
          "output_type": "stream",
          "text": [
            "Enter your number ??? -545\n",
            "your no is :: -545\n",
            "-2.222222232\n"
          ],
          "name": "stdout"
        }
      ]
    }
  ]
}