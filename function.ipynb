{
  "nbformat": 4,
  "nbformat_minor": 0,
  "metadata": {
    "colab": {
      "name": "Untitled1.ipynb",
      "provenance": [],
      "collapsed_sections": [],
      "authorship_tag": "ABX9TyMsKrhyOdhaxulDeecsR7ih",
      "include_colab_link": true
    },
    "kernelspec": {
      "name": "python3",
      "display_name": "Python 3"
    }
  },
  "cells": [
    {
      "cell_type": "markdown",
      "metadata": {
        "id": "view-in-github",
        "colab_type": "text"
      },
      "source": [
        "<a href=\"https://colab.research.google.com/github/Sudipsamanta1/python-beginner/blob/master/function.ipynb\" target=\"_parent\"><img src=\"https://colab.research.google.com/assets/colab-badge.svg\" alt=\"Open In Colab\"/></a>"
      ]
    },
    {
      "cell_type": "code",
      "metadata": {
        "id": "nUne-Iaho_2W",
        "colab_type": "code",
        "colab": {}
      },
      "source": [
        "#addition\n",
        "\n",
        "def addition(x,y,z):\n",
        "  total=x+y+z\n",
        "  return total\n"
      ],
      "execution_count": 0,
      "outputs": []
    },
    {
      "cell_type": "markdown",
      "metadata": {
        "id": "bSfMAd3-r9hc",
        "colab_type": "text"
      },
      "source": [
        "**multiplication**"
      ]
    },
    {
      "cell_type": "code",
      "metadata": {
        "id": "I6Rhv4rjsOEk",
        "colab_type": "code",
        "colab": {}
      },
      "source": [
        "def multiplication(x,y,z):\n",
        "  total=x*y*z\n",
        "  return total\n"
      ],
      "execution_count": 0,
      "outputs": []
    },
    {
      "cell_type": "markdown",
      "metadata": {
        "id": "gBqZqXNTr68-",
        "colab_type": "text"
      },
      "source": [
        "**equation**"
      ]
    },
    {
      "cell_type": "code",
      "metadata": {
        "id": "Bsn2_QgUr286",
        "colab_type": "code",
        "colab": {
          "base_uri": "https://localhost:8080/",
          "height": 69
        },
        "outputId": "3e8ebb2b-64d3-48da-bba6-7e4adb77ae66"
      },
      "source": [
        "\n",
        "def equation(t):\n",
        "  total=((6*t**3+1)**3-(6*t**3-1)**3-(6*t**2)**3)\n",
        "  return total\n",
        "\n",
        "t=int(input('Enter your no  ::: '))\n",
        "print('your no is ::',t)\n",
        "equation(t)\n",
        "\n",
        "\n",
        "\n"
      ],
      "execution_count": 15,
      "outputs": [
        {
          "output_type": "stream",
          "text": [
            "Enter your no  ::: 1\n",
            "your no is :: 1\n"
          ],
          "name": "stdout"
        },
        {
          "output_type": "execute_result",
          "data": {
            "text/plain": [
              "2"
            ]
          },
          "metadata": {
            "tags": []
          },
          "execution_count": 15
        }
      ]
    },
    {
      "cell_type": "markdown",
      "metadata": {
        "id": "r8GLGSCBs2C-",
        "colab_type": "text"
      },
      "source": [
        ""
      ]
    },
    {
      "cell_type": "code",
      "metadata": {
        "id": "41r2GKrLs2W7",
        "colab_type": "code",
        "colab": {
          "base_uri": "https://localhost:8080/",
          "height": 52
        },
        "outputId": "5f8044f9-9329-4d6f-dd4f-951fe8509cbc"
      },
      "source": [
        "\n",
        "a=addition(1,2,3)\n",
        "b=multiplication(12,23,2)\n",
        "print(a)\n",
        "print(b)"
      ],
      "execution_count": 8,
      "outputs": [
        {
          "output_type": "stream",
          "text": [
            "6\n",
            "552\n"
          ],
          "name": "stdout"
        }
      ]
    }
  ]
}